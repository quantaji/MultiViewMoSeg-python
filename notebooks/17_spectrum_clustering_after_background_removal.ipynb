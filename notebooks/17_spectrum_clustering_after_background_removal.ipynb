{
 "cells": [
  {
   "cell_type": "code",
   "execution_count": 7,
   "metadata": {},
   "outputs": [],
   "source": [
    "import sys\n",
    "\n",
    "import numpy as np\n",
    "\n",
    "sys.path.append('..')\n",
    "\n",
    "from multiviewmoseg.pipeline import subset_constrained_clustering"
   ]
  },
  {
   "cell_type": "code",
   "execution_count": 8,
   "metadata": {},
   "outputs": [],
   "source": [
    "# case_id = 1\n",
    "# case_id = 2\n",
    "# case_id = 4\n",
    "case_id = 5\n",
    "# case_id = 6\n",
    "\n",
    "\n",
    "A = np.load(\"A_fg_{:02d}.npy\".format(case_id))\n",
    "H = np.load(\"H_fg_{:02d}.npy\".format(case_id))\n",
    "F = np.load(\"F_fg_{:02d}.npy\".format(case_id))"
   ]
  },
  {
   "cell_type": "code",
   "execution_count": 9,
   "metadata": {},
   "outputs": [
    {
     "name": "stdout",
     "output_type": "stream",
     "text": [
      "0\n",
      "asdfasdfa\n",
      "(1606, 1606)\n",
      "1\n",
      "asdfasdfa\n",
      "(1606, 1606)\n",
      "2\n",
      "asdfasdfa\n",
      "(1606, 1606)\n",
      "0\n",
      "1\n",
      "2\n",
      "3\n",
      "4\n",
      "5\n"
     ]
    }
   ],
   "source": [
    "answer = subset_constrained_clustering(\n",
    "    kernels={\"A\": A, \"H\": H, \"F\": F},\n",
    "    num_motion=8,\n",
    "    # num_motion=2,\n",
    "    alpha=5,\n",
    ")"
   ]
  },
  {
   "cell_type": "code",
   "execution_count": 10,
   "metadata": {},
   "outputs": [
    {
     "data": {
      "text/plain": [
       "(array([[[-3.60513501e-02, -1.38934389e-02,  2.16821526e-02, ...,\n",
       "          -6.22446895e-03,  1.59448629e-02, -7.86439973e-03],\n",
       "         [-3.27995956e-02, -1.28273284e-02,  2.26245533e-02, ...,\n",
       "          -7.56712944e-03,  2.41338854e-02, -1.26289139e-02],\n",
       "         [-3.07549393e-02, -1.20432722e-02,  2.11946739e-02, ...,\n",
       "          -7.37238118e-03,  2.44842363e-02, -1.29716288e-02],\n",
       "         ...,\n",
       "         [-3.35050014e-02, -1.08734601e-02, -5.69293525e-02, ...,\n",
       "           6.30640045e-04,  1.18581433e-03, -1.45190656e-03],\n",
       "         [-3.32470075e-02, -1.07929042e-02, -5.64900027e-02, ...,\n",
       "           6.30552099e-04,  1.18165497e-03, -1.45236379e-03],\n",
       "         [-3.16436529e-02, -1.02867053e-02, -5.38767916e-02, ...,\n",
       "           6.23446825e-04,  1.16270453e-03, -1.45098429e-03]],\n",
       " \n",
       "        [[-3.56671663e-02,  2.47942817e-02, -1.75713005e-02, ...,\n",
       "           1.90473014e-03, -5.24652445e-04,  1.07787832e-03],\n",
       "         [-3.18988709e-02,  2.23527716e-02, -1.64758809e-02, ...,\n",
       "           1.90182513e-03, -5.46054841e-04,  1.24626886e-03],\n",
       "         [-3.08913515e-02,  2.16900052e-02, -1.59906723e-02, ...,\n",
       "           1.86894519e-03, -6.19183458e-04,  1.44556158e-03],\n",
       "         ...,\n",
       "         [-2.90339628e-02,  4.80302271e-03,  6.30917870e-02, ...,\n",
       "          -2.56624490e-03, -2.20933150e-03,  1.16369790e-03],\n",
       "         [-2.85446158e-02,  4.72139557e-03,  6.21503895e-02, ...,\n",
       "          -2.57390770e-03, -2.24829679e-03,  1.19456754e-03],\n",
       "         [-2.82568637e-02,  4.64468889e-03,  6.18136842e-02, ...,\n",
       "          -2.60768044e-03, -2.31466326e-03,  1.24561738e-03]],\n",
       " \n",
       "        [[ 1.64319811e-02, -3.52503101e-02,  8.15247531e-03, ...,\n",
       "          -2.07084329e-04,  4.78119253e-05, -7.12532313e-04],\n",
       "         [ 1.75830383e-02, -3.86039423e-02,  9.94276976e-03, ...,\n",
       "          -1.90212845e-04,  6.10865943e-05,  3.37093599e-03],\n",
       "         [ 1.65567330e-02, -3.63901722e-02,  9.38843700e-03, ...,\n",
       "          -2.55615386e-04,  7.83210071e-05,  1.70928530e-03],\n",
       "         ...,\n",
       "         [ 2.31642074e-02, -6.06837938e-03, -6.79991812e-02, ...,\n",
       "           4.06043230e-03,  2.27272334e-03, -3.99172303e-03],\n",
       "         [ 2.12625339e-02, -5.58002386e-03, -6.26086371e-02, ...,\n",
       "           3.62417850e-03,  2.11995437e-03, -4.01617545e-03],\n",
       "         [ 2.15940784e-02, -5.63762921e-03, -6.40134252e-02, ...,\n",
       "           4.00760449e-03,  2.37645597e-03, -4.55579703e-03]]]),\n",
       " 5,\n",
       " [2.0234586208486807,\n",
       "  2.0216194167547887,\n",
       "  2.0216482827798066,\n",
       "  2.021645185350338,\n",
       "  2.021645567578373,\n",
       "  2.0216455460682856,\n",
       "  2.021645551724682],\n",
       " {'reason': 'converge'})"
      ]
     },
     "execution_count": 10,
     "metadata": {},
     "output_type": "execute_result"
    }
   ],
   "source": [
    "answer"
   ]
  },
  {
   "cell_type": "code",
   "execution_count": 11,
   "metadata": {},
   "outputs": [],
   "source": [
    "np.save(\"./U_subset_fg_{:02d}.npy\".format(case_id), answer[0])"
   ]
  },
  {
   "cell_type": "code",
   "execution_count": 12,
   "metadata": {},
   "outputs": [
    {
     "data": {
      "text/plain": [
       "(3, 1606, 8)"
      ]
     },
     "execution_count": 12,
     "metadata": {},
     "output_type": "execute_result"
    }
   ],
   "source": [
    "answer[0].shape"
   ]
  }
 ],
 "metadata": {
  "kernelspec": {
   "display_name": "thesis",
   "language": "python",
   "name": "python3"
  },
  "language_info": {
   "codemirror_mode": {
    "name": "ipython",
    "version": 3
   },
   "file_extension": ".py",
   "mimetype": "text/x-python",
   "name": "python",
   "nbconvert_exporter": "python",
   "pygments_lexer": "ipython3",
   "version": "3.10.14"
  }
 },
 "nbformat": 4,
 "nbformat_minor": 2
}
