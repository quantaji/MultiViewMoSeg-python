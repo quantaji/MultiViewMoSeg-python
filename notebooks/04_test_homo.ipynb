{
 "cells": [
  {
   "cell_type": "code",
   "execution_count": 1,
   "metadata": {},
   "outputs": [],
   "source": [
    "# test if the fitting of 4 points gives zero error\n",
    "\n",
    "import sys\n",
    "import os\n",
    "sys.path.append('..')"
   ]
  },
  {
   "cell_type": "code",
   "execution_count": 2,
   "metadata": {},
   "outputs": [],
   "source": [
    "from skimage.transform._geometric import ProjectiveTransform, AffineTransform as AFT\n",
    "from multiviewmoseg.transform.affine import AffineTransform\n",
    "from multiviewmoseg.transform.utils import homo2inhomo, inhomo2homo\n",
    "from multiviewmoseg.transform.homography import HomographyTransform"
   ]
  },
  {
   "cell_type": "code",
   "execution_count": 3,
   "metadata": {},
   "outputs": [],
   "source": [
    "import numpy as np\n",
    "\n",
    "src_gt = np.random.randn(4, 2)\n",
    "dst_gt = np.random.randn(4, 2)"
   ]
  },
  {
   "cell_type": "code",
   "execution_count": 4,
   "metadata": {},
   "outputs": [
    {
     "data": {
      "text/plain": [
       "array([[ 1.73959091,  0.01336546, -0.83379056],\n",
       "       [-1.28551742, -0.03138279,  0.56708909],\n",
       "       [-2.22684227,  0.1264937 ,  1.        ]])"
      ]
     },
     "execution_count": 4,
     "metadata": {},
     "output_type": "execute_result"
    }
   ],
   "source": [
    "gt_homo = ProjectiveTransform()\n",
    "gt_homo.estimate(src=src_gt, dst=dst_gt)\n",
    "A = gt_homo.params\n",
    "A"
   ]
  },
  {
   "cell_type": "code",
   "execution_count": 5,
   "metadata": {},
   "outputs": [],
   "source": [
    "src = np.random.randn(30, 2)\n",
    "dst = homo2inhomo(inhomo2homo(src) @ A.T)\n",
    "dst_noise = dst + 0.01 * np.random.randn(30, 2)"
   ]
  },
  {
   "cell_type": "code",
   "execution_count": 6,
   "metadata": {},
   "outputs": [],
   "source": [
    "test_transform = HomographyTransform()"
   ]
  },
  {
   "cell_type": "code",
   "execution_count": 8,
   "metadata": {},
   "outputs": [
    {
     "name": "stdout",
     "output_type": "stream",
     "text": [
      "91.5 µs ± 481 ns per loop (mean ± std. dev. of 7 runs, 10,000 loops each)\n"
     ]
    }
   ],
   "source": [
    "%%timeit\n",
    "test_transform.fit(src=src, dst=dst)"
   ]
  },
  {
   "cell_type": "code",
   "execution_count": 10,
   "metadata": {},
   "outputs": [
    {
     "data": {
      "text/plain": [
       "(array([[ 1.86689637, -1.40363705, -2.09298592],\n",
       "        [ 0.73338288,  2.73952573,  0.31662066],\n",
       "        [-1.05015123,  3.29410305,  1.        ]]),\n",
       " array([[ 1.86689637, -1.40363705, -2.09298592],\n",
       "        [ 0.73338288,  2.73952573,  0.31662066],\n",
       "        [-1.05015123,  3.29410305,  1.        ]]),\n",
       " array([[ 2.44249065e-15, -4.44089210e-16, -3.10862447e-15],\n",
       "        [ 4.44089210e-16,  2.22044605e-15,  7.21644966e-16],\n",
       "        [-2.22044605e-15,  3.55271368e-15,  0.00000000e+00]]),\n",
       " array([9.36772325e-31, 1.67787017e-29, 6.53275437e-31, 8.03960196e-30,\n",
       "        1.34915244e-29, 6.68374728e-30, 1.21971626e-30, 4.65920972e-30,\n",
       "        7.71759418e-28, 6.82921975e-27, 1.04601107e-29, 5.49549665e-30,\n",
       "        6.42921638e-29, 1.29422492e-30, 1.34352873e-30, 2.35444936e-30,\n",
       "        1.70221392e-29, 3.65541503e-30, 3.35208107e-30, 1.01274025e-27,\n",
       "        9.65368533e-29, 3.16468808e-30, 4.06756404e-31, 5.37719640e-30,\n",
       "        1.21102475e-30, 6.93334780e-31, 2.21497351e-29, 1.81838602e-29,\n",
       "        4.83793602e-31, 7.75672137e-29]))"
      ]
     },
     "execution_count": 10,
     "metadata": {},
     "output_type": "execute_result"
    }
   ],
   "source": [
    "test_transform.fit(src=src, dst=dst)\n",
    "A, test_transform.params, test_transform.params - A, test_transform.residuals(src, dst)"
   ]
  },
  {
   "cell_type": "code",
   "execution_count": 9,
   "metadata": {},
   "outputs": [
    {
     "data": {
      "text/plain": [
       "(array([[ 1.86689637, -1.40363705, -2.09298592],\n",
       "        [ 0.73338288,  2.73952573,  0.31662066],\n",
       "        [-1.05015123,  3.29410305,  1.        ]]),\n",
       " array([[ 1.86183955, -1.40833861, -2.0940062 ],\n",
       "        [ 0.73670092,  2.72686672,  0.31286666],\n",
       "        [-1.04984218,  3.2910912 ,  1.        ]]),\n",
       " array([5.93769590e-04, 5.14722094e-03, 5.58981404e-03, 8.54399037e-05,\n",
       "        3.33653607e-04, 1.95303855e-03, 1.66673776e-03, 8.51017042e-04,\n",
       "        6.02240717e-04, 5.89582188e-04, 1.95009905e-03, 8.58856078e-03,\n",
       "        2.64970900e-03, 6.87529129e-04, 2.69291856e-03, 2.19145370e-03,\n",
       "        2.43342302e-04, 9.58149279e-03, 6.59306133e-04, 2.75216174e-04,\n",
       "        8.05663371e-03, 3.47974964e-04, 5.66308044e-03, 9.55050346e-06,\n",
       "        2.29878266e-03, 1.90365484e-02, 1.10409735e-03, 3.31983468e-03,\n",
       "        7.40217846e-03, 4.96073009e-02]))"
      ]
     },
     "execution_count": 9,
     "metadata": {},
     "output_type": "execute_result"
    }
   ],
   "source": [
    "test_transform.fit(src=src, dst=dst_noise)\n",
    "A, test_transform.params, test_transform.residuals(src, dst_noise)"
   ]
  },
  {
   "cell_type": "code",
   "execution_count": null,
   "metadata": {},
   "outputs": [],
   "source": []
  }
 ],
 "metadata": {
  "kernelspec": {
   "display_name": "thesis",
   "language": "python",
   "name": "python3"
  },
  "language_info": {
   "codemirror_mode": {
    "name": "ipython",
    "version": 3
   },
   "file_extension": ".py",
   "mimetype": "text/x-python",
   "name": "python",
   "nbconvert_exporter": "python",
   "pygments_lexer": "ipython3",
   "version": "3.10.14"
  }
 },
 "nbformat": 4,
 "nbformat_minor": 2
}
