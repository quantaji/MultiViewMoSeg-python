{
 "cells": [
  {
   "cell_type": "code",
   "execution_count": 1,
   "metadata": {},
   "outputs": [],
   "source": [
    "import sys\n",
    "import os\n",
    "sys.path.append('..')"
   ]
  },
  {
   "cell_type": "code",
   "execution_count": 2,
   "metadata": {},
   "outputs": [],
   "source": [
    "from skimage.transform._geometric import AffineTransform as AFT\n",
    "from skimage.transform._geometric import ProjectiveTransform\n",
    "\n",
    "from multiviewmoseg.sampler.random import RandomSampler\n",
    "from multiviewmoseg.transform import AffineTransform, FundamentalMatrixTransform, HomographyTransform\n",
    "from multiviewmoseg.transform.utils import homo2inhomo, inhomo2homo"
   ]
  },
  {
   "cell_type": "code",
   "execution_count": 3,
   "metadata": {},
   "outputs": [],
   "source": [
    "import numpy as np\n",
    "\n",
    "src_gt = np.random.randn(4, 2)\n",
    "dst_gt = np.random.randn(4, 2)"
   ]
  },
  {
   "cell_type": "code",
   "execution_count": 4,
   "metadata": {},
   "outputs": [
    {
     "data": {
      "text/plain": [
       "array([[-3.71443708,  3.00085852,  0.43443702],\n",
       "       [-9.3463862 , -1.38300659,  1.83718548],\n",
       "       [-7.79696771, -4.79869109,  1.        ]])"
      ]
     },
     "execution_count": 4,
     "metadata": {},
     "output_type": "execute_result"
    }
   ],
   "source": [
    "gt_homo = ProjectiveTransform()\n",
    "gt_homo.estimate(src=src_gt, dst=dst_gt)\n",
    "A = gt_homo.params\n",
    "A"
   ]
  },
  {
   "cell_type": "code",
   "execution_count": 5,
   "metadata": {},
   "outputs": [],
   "source": [
    "src = np.random.randn(50000, 2)\n",
    "dst = homo2inhomo(inhomo2homo(src) @ A.T)\n",
    "dst_noise = dst + 0.01 * np.random.randn(50000, 2)"
   ]
  },
  {
   "cell_type": "code",
   "execution_count": 6,
   "metadata": {},
   "outputs": [
    {
     "data": {
      "text/plain": [
       "((50000, 2, 2), (50000, 2, 2))"
      ]
     },
     "execution_count": 6,
     "metadata": {},
     "output_type": "execute_result"
    }
   ],
   "source": [
    "data = np.stack([src, dst], axis=1)\n",
    "data_noise = np.stack([src, dst_noise], axis=1)\n",
    "\n",
    "data.shape, data_noise.shape"
   ]
  },
  {
   "cell_type": "code",
   "execution_count": 7,
   "metadata": {},
   "outputs": [],
   "source": [
    "sampler = RandomSampler()"
   ]
  },
  {
   "cell_type": "code",
   "execution_count": 8,
   "metadata": {},
   "outputs": [],
   "source": [
    "params, residuals, indices = sampler.sample(\n",
    "    num_hypo=500,\n",
    "    # transform=HomographyTransform,\n",
    "    # transform=AffineTransform,\n",
    "    # transform=FundamentalMatrixTransform,\n",
    "    data=data_noise,\n",
    ")"
   ]
  },
  {
   "cell_type": "code",
   "execution_count": 9,
   "metadata": {},
   "outputs": [
    {
     "data": {
      "text/plain": [
       "((500, 3, 3), (500, 50000), (500, 4))"
      ]
     },
     "execution_count": 9,
     "metadata": {},
     "output_type": "execute_result"
    }
   ],
   "source": [
    "params.shape, residuals.shape, indices.shape"
   ]
  },
  {
   "cell_type": "code",
   "execution_count": null,
   "metadata": {},
   "outputs": [],
   "source": []
  }
 ],
 "metadata": {
  "kernelspec": {
   "display_name": "thesis",
   "language": "python",
   "name": "python3"
  },
  "language_info": {
   "codemirror_mode": {
    "name": "ipython",
    "version": 3
   },
   "file_extension": ".py",
   "mimetype": "text/x-python",
   "name": "python",
   "nbconvert_exporter": "python",
   "pygments_lexer": "ipython3",
   "version": "3.10.14"
  }
 },
 "nbformat": 4,
 "nbformat_minor": 2
}
