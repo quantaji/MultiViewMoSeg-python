{
 "cells": [
  {
   "cell_type": "code",
   "execution_count": 1,
   "metadata": {},
   "outputs": [],
   "source": [
    "import sys\n",
    "import os\n",
    "sys.path.append('..')"
   ]
  },
  {
   "cell_type": "code",
   "execution_count": 8,
   "metadata": {},
   "outputs": [],
   "source": [
    "from skimage.transform._geometric import ProjectiveTransform, AffineTransform as AFT\n",
    "from multiviewmoseg.transform.affine import AffineTransform\n",
    "from multiviewmoseg.transform.utils import homo2inhomo, inhomo2homo\n",
    "from multiviewmoseg.transform.homography import HomographyTransform\n",
    "from multiviewmoseg.sampler.random import RandomSampler"
   ]
  },
  {
   "cell_type": "code",
   "execution_count": 3,
   "metadata": {},
   "outputs": [],
   "source": [
    "import numpy as np\n",
    "\n",
    "src_gt = np.random.randn(4, 2)\n",
    "dst_gt = np.random.randn(4, 2)"
   ]
  },
  {
   "cell_type": "code",
   "execution_count": 4,
   "metadata": {},
   "outputs": [
    {
     "data": {
      "text/plain": [
       "array([[-2.69990195, -2.48923871,  0.40122086],\n",
       "       [-4.21551629, -3.91887748,  1.40302389],\n",
       "       [-1.87626328, -2.37308049,  1.        ]])"
      ]
     },
     "execution_count": 4,
     "metadata": {},
     "output_type": "execute_result"
    }
   ],
   "source": [
    "gt_homo = ProjectiveTransform()\n",
    "gt_homo.estimate(src=src_gt, dst=dst_gt)\n",
    "A = gt_homo.params\n",
    "A"
   ]
  },
  {
   "cell_type": "code",
   "execution_count": 14,
   "metadata": {},
   "outputs": [],
   "source": [
    "src = np.random.randn(50000, 2)\n",
    "dst = homo2inhomo(inhomo2homo(src) @ A.T)\n",
    "dst_noise = dst + 0.01 * np.random.randn(50000, 2)"
   ]
  },
  {
   "cell_type": "code",
   "execution_count": 15,
   "metadata": {},
   "outputs": [],
   "source": [
    "data = np.concatenate([src, dst], axis=1)\n",
    "data_noise = np.concatenate([src, dst_noise], axis=1)"
   ]
  },
  {
   "cell_type": "code",
   "execution_count": 16,
   "metadata": {},
   "outputs": [],
   "source": [
    "sampler = RandomSampler()"
   ]
  },
  {
   "cell_type": "code",
   "execution_count": 18,
   "metadata": {},
   "outputs": [],
   "source": [
    "params, residuals, indices = sampler.sample(\n",
    "    num_hypo=500,\n",
    "    transform=HomographyTransform,\n",
    "    data=data,\n",
    ")"
   ]
  },
  {
   "cell_type": "code",
   "execution_count": 19,
   "metadata": {},
   "outputs": [
    {
     "data": {
      "text/plain": [
       "((500, 3, 3), (500, 50000), (500, 4))"
      ]
     },
     "execution_count": 19,
     "metadata": {},
     "output_type": "execute_result"
    }
   ],
   "source": [
    "params.shape, residuals.shape, indices.shape"
   ]
  },
  {
   "cell_type": "code",
   "execution_count": null,
   "metadata": {},
   "outputs": [],
   "source": []
  }
 ],
 "metadata": {
  "kernelspec": {
   "display_name": "thesis",
   "language": "python",
   "name": "python3"
  },
  "language_info": {
   "codemirror_mode": {
    "name": "ipython",
    "version": 3
   },
   "file_extension": ".py",
   "mimetype": "text/x-python",
   "name": "python",
   "nbconvert_exporter": "python",
   "pygments_lexer": "ipython3",
   "version": "3.10.14"
  }
 },
 "nbformat": 4,
 "nbformat_minor": 2
}
