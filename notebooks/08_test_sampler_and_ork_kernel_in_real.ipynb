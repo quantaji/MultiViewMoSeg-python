{
 "cells": [
  {
   "cell_type": "code",
   "execution_count": 1,
   "metadata": {},
   "outputs": [],
   "source": [
    "import numpy as np\n",
    "\n",
    "# # case 1: single moving chair, small FoV\n",
    "# case_id = 1\n",
    "# idx = 1346\n",
    "# traj_path = \"/scratch/quanta/Experiments/Thesis/exps/prob_video_1/cotracker_dense_8/trajectory_{:06d}.npy\".format(idx)\n",
    "\n",
    "# # case 2: ipad and hands, medium FoV\n",
    "# case_id = 2\n",
    "# idx = 260\n",
    "# traj_path = \"/scratch/quanta/Experiments/Thesis/exps/prob_video_3/cotracker_dense_8/trajectory_{:06d}.npy\".format(idx)\n",
    "\n",
    "# # case 3: no moving things, large FoV\n",
    "# case_id = 3\n",
    "# idx = 778\n",
    "# traj_path = \"/scratch/quanta/Experiments/Thesis/exps/prob_video_2/cotracker_dense_8/trajectory_{:06d}.npy\".format(idx)\n",
    "\n",
    "# # case 4: two hands and openning of rice-cooker \n",
    "# case_id = 4\n",
    "# idx = 360\n",
    "# traj_path = \"/scratch/quanta/Experiments/Thesis/exps/prob_video_2/cotracker_dense_8/trajectory_{:06d}.npy\".format(idx)\n",
    "\n",
    "# # case 5: two pans\n",
    "# case_id = 5\n",
    "# idx = 2220\n",
    "# traj_path = \"/scratch/quanta/Experiments/Thesis/exps/prob_video_2/cotracker_dense_8/trajectory_{:06d}.npy\".format(idx)\n",
    "\n",
    "# # case 6: openning of iPad\n",
    "# case_id = 6\n",
    "# idx = 386\n",
    "# traj_path = \"/scratch/quanta/Experiments/Thesis/exps/prob_video_3/cotracker_dense_8/trajectory_{:06d}.npy\".format(idx)\n",
    "\n",
    "traj = np.load(traj_path)\n",
    "traj = traj[0].transpose(1, 0, 2)"
   ]
  },
  {
   "cell_type": "code",
   "execution_count": 2,
   "metadata": {},
   "outputs": [],
   "source": [
    "import sys\n",
    "sys.path.append('..')"
   ]
  },
  {
   "cell_type": "code",
   "execution_count": 3,
   "metadata": {},
   "outputs": [],
   "source": [
    "from multiviewmoseg.pipeline import get_kernels_from_data\n",
    "from multiviewmoseg.sampler import RandomSampler"
   ]
  },
  {
   "cell_type": "code",
   "execution_count": 4,
   "metadata": {},
   "outputs": [],
   "source": [
    "sampler = RandomSampler()"
   ]
  },
  {
   "cell_type": "code",
   "execution_count": 5,
   "metadata": {},
   "outputs": [
    {
     "name": "stderr",
     "output_type": "stream",
     "text": [
      "/home/quanta/Projects/MultiViewMoSeg-python/notebooks/../multiviewmoseg/sampler/random.py:54: UserWarning: Cannot find a valid p-subset!\n",
      "  warnings.warn(\"Cannot find a valid p-subset!\")\n"
     ]
    },
    {
     "name": "stdout",
     "output_type": "stream",
     "text": [
      "Warning: Some points are at infinity\n",
      "Warning: Some points are at infinity\n"
     ]
    }
   ],
   "source": [
    "answer = get_kernels_from_data(\n",
    "    trajectory_data=traj,\n",
    "    sampler=sampler,\n",
    "    num_hypo=5000,\n",
    ")"
   ]
  },
  {
   "cell_type": "code",
   "execution_count": 6,
   "metadata": {},
   "outputs": [
    {
     "data": {
      "text/plain": [
       "0.0"
      ]
     },
     "execution_count": 6,
     "metadata": {},
     "output_type": "execute_result"
    }
   ],
   "source": [
    "(answer[\"A\"]-answer[\"A\"].T).std()"
   ]
  },
  {
   "cell_type": "code",
   "execution_count": 7,
   "metadata": {},
   "outputs": [],
   "source": [
    "np.save(\"A_{:02d}.npy\".format(case_id), answer[\"A\"])\n",
    "np.save(\"H_{:02d}.npy\".format(case_id), answer[\"H\"])\n",
    "np.save(\"F_{:02d}.npy\".format(case_id), answer[\"F\"])"
   ]
  },
  {
   "cell_type": "code",
   "execution_count": 8,
   "metadata": {},
   "outputs": [
    {
     "data": {
      "text/plain": [
       "(13718, 13718)"
      ]
     },
     "execution_count": 8,
     "metadata": {},
     "output_type": "execute_result"
    }
   ],
   "source": [
    "answer[\"A\"].shape"
   ]
  },
  {
   "cell_type": "code",
   "execution_count": null,
   "metadata": {},
   "outputs": [],
   "source": []
  }
 ],
 "metadata": {
  "kernelspec": {
   "display_name": "thesis",
   "language": "python",
   "name": "python3"
  },
  "language_info": {
   "codemirror_mode": {
    "name": "ipython",
    "version": 3
   },
   "file_extension": ".py",
   "mimetype": "text/x-python",
   "name": "python",
   "nbconvert_exporter": "python",
   "pygments_lexer": "ipython3",
   "version": "3.10.14"
  }
 },
 "nbformat": 4,
 "nbformat_minor": 2
}
