{
 "cells": [
  {
   "cell_type": "code",
   "execution_count": 1,
   "metadata": {},
   "outputs": [],
   "source": [
    "# I use case 5 as an example."
   ]
  },
  {
   "cell_type": "code",
   "execution_count": 2,
   "metadata": {},
   "outputs": [],
   "source": [
    "import sys\n",
    "\n",
    "import numpy as np\n",
    "\n",
    "sys.path.append('..')"
   ]
  },
  {
   "cell_type": "code",
   "execution_count": 3,
   "metadata": {},
   "outputs": [],
   "source": [
    "# case_id = 1\n",
    "# case_id = 2\n",
    "# case_id = 3\n",
    "# case_id = 4\n",
    "case_id = 5\n",
    "# case_id = 6"
   ]
  },
  {
   "cell_type": "code",
   "execution_count": 4,
   "metadata": {},
   "outputs": [
    {
     "data": {
      "text/plain": [
       "array([0, 1, 2, 3, 4, 5, 6, 7], dtype=int32)"
      ]
     },
     "execution_count": 4,
     "metadata": {},
     "output_type": "execute_result"
    }
   ],
   "source": [
    "labels = np.load(\"./group_idx_fg_{:02d}.npy\".format(case_id))\n",
    "np.unique(labels)"
   ]
  },
  {
   "cell_type": "code",
   "execution_count": 5,
   "metadata": {},
   "outputs": [
    {
     "data": {
      "text/plain": [
       "(1606, 8, 2)"
      ]
     },
     "execution_count": 5,
     "metadata": {},
     "output_type": "execute_result"
    }
   ],
   "source": [
    "traj = np.load(\"./traj_{:02d}.npy\".format(case_id))\n",
    "traj.shape"
   ]
  },
  {
   "cell_type": "code",
   "execution_count": 6,
   "metadata": {},
   "outputs": [],
   "source": [
    "from multiviewmoseg.transform import MultiFrameFundamentalMatrixTransform as MFT"
   ]
  },
  {
   "cell_type": "code",
   "execution_count": 7,
   "metadata": {},
   "outputs": [],
   "source": [
    "# 0 and 2 are from two different moving group\n",
    "# 2, 4\n",
    "# 3\n",
    "# 0,1,5,6,7"
   ]
  },
  {
   "cell_type": "code",
   "execution_count": 8,
   "metadata": {},
   "outputs": [
    {
     "name": "stdout",
     "output_type": "stream",
     "text": [
      "232 173 405\n",
      "(232,) (232,)\n"
     ]
    }
   ],
   "source": [
    "mask_a = labels == 3\n",
    "# mask_b = labels == 1\n",
    "mask_b = labels == 1\n",
    "mask_comb = mask_a + mask_b\n",
    "print(mask_a.sum(), mask_b.sum(), mask_comb.sum())\n",
    "temp_trans_a = MFT(n_frames=8)\n",
    "temp_trans_b = MFT(n_frames=8)\n",
    "temp_trans_comb = MFT(n_frames=8)\n",
    "\n",
    "temp_trans_a.fit(data=traj[mask_a])\n",
    "temp_trans_b.fit(data=traj[mask_b])\n",
    "\n",
    "# data inbalance issue solve by extra sampling on\n",
    "if mask_a.sum() > mask_b.sum():\n",
    "    idx_a = np.arange(mask_a.sum())\n",
    "    idx_b = np.concatenate(\n",
    "        [\n",
    "            np.arange(mask_b.sum()),\n",
    "            np.random.choice(\n",
    "                np.arange(mask_b.sum()),\n",
    "                size=mask_a.sum() - mask_b.sum(),\n",
    "                replace=True,\n",
    "            ),\n",
    "        ]\n",
    "    )\n",
    "elif mask_a.sum() < mask_b.sum():\n",
    "    idx_a = np.concatenate(\n",
    "        [\n",
    "            np.arange(mask_a.sum()),\n",
    "            np.random.choice(\n",
    "                np.arange(mask_a.sum()),\n",
    "                size=mask_b.sum() - mask_a.sum(),\n",
    "                replace=True,\n",
    "            ),\n",
    "        ]\n",
    "    )\n",
    "    idx_b = np.arange(mask_b.sum())\n",
    "else:\n",
    "    idx_a = np.arange(mask_a.sum())\n",
    "    idx_b = np.arange(mask_b.sum())\n",
    "\n",
    "\n",
    "print(idx_a.shape, idx_b.shape)\n",
    "\n",
    "\n",
    "temp_trans_comb.fit(data=traj[np.concatenate([idx_a, idx_b])])\n",
    "# temp_trans_comb.fit(data=traj[mask_comb])"
   ]
  },
  {
   "cell_type": "code",
   "execution_count": 9,
   "metadata": {},
   "outputs": [
    {
     "name": "stdout",
     "output_type": "stream",
     "text": [
      "0.5285771108632819 0.24692646262083673\n",
      "0.7387615889491771 0.36130511811486066\n",
      "6.6652446874684195 1.1715773671148029\n",
      "26.054554276045117 10.98448674995414\n"
     ]
    }
   ],
   "source": [
    "# self fitting error\n",
    "res_data_a_model_a = temp_trans_a.residuals(data=traj[mask_a])\n",
    "print(res_data_a_model_a.mean(), res_data_a_model_a.std())\n",
    "res_data_b_model_b = temp_trans_b.residuals(data=traj[mask_b])\n",
    "print(res_data_b_model_b.mean(), res_data_b_model_b.std())\n",
    "\n",
    "# fitting error\n",
    "res_data_b_model_a = temp_trans_a.residuals(data=traj[mask_b])\n",
    "print(res_data_b_model_a.mean(), res_data_b_model_a.std())\n",
    "res_data_a_model_b = temp_trans_b.residuals(data=traj[mask_a])\n",
    "print(res_data_a_model_b.mean(), res_data_a_model_b.std())\n",
    "\n",
    "# conclusion: do not use data from one single set to fit another, the degeneracy might lead to fake high error"
   ]
  },
  {
   "cell_type": "code",
   "execution_count": 10,
   "metadata": {},
   "outputs": [
    {
     "name": "stdout",
     "output_type": "stream",
     "text": [
      "29.22921435095516 5.735751566852195\n",
      "16.43076100456525 2.5186710840094193\n",
      "23.76222069928737 7.850896896004689\n"
     ]
    }
   ],
   "source": [
    "res_data_comb_model_a = temp_trans_comb.residuals(data=traj[mask_a])\n",
    "print(res_data_comb_model_a.mean(), res_data_comb_model_a.std())\n",
    "\n",
    "res_data_comb_model_b = temp_trans_comb.residuals(data=traj[mask_b])\n",
    "print(res_data_comb_model_b.mean(), res_data_comb_model_b.std())\n",
    "\n",
    "res_data_comb_model_comb = temp_trans_comb.residuals(data=traj[mask_comb])\n",
    "print(res_data_comb_model_comb.mean(), res_data_comb_model_comb.std())"
   ]
  },
  {
   "cell_type": "code",
   "execution_count": 11,
   "metadata": {},
   "outputs": [
    {
     "name": "stdout",
     "output_type": "stream",
     "text": [
      "55.2979191687235\n",
      "22.24095195303339\n"
     ]
    }
   ],
   "source": [
    "print(res_data_comb_model_a.mean() / res_data_a_model_a.mean())\n",
    "print(res_data_comb_model_b.mean() / res_data_b_model_b.mean())"
   ]
  },
  {
   "cell_type": "code",
   "execution_count": 12,
   "metadata": {},
   "outputs": [],
   "source": [
    "# 1.32 is a threshould"
   ]
  },
  {
   "cell_type": "code",
   "execution_count": 13,
   "metadata": {},
   "outputs": [],
   "source": [
    "# model imbalance issue"
   ]
  }
 ],
 "metadata": {
  "kernelspec": {
   "display_name": "thesis",
   "language": "python",
   "name": "python3"
  },
  "language_info": {
   "codemirror_mode": {
    "name": "ipython",
    "version": 3
   },
   "file_extension": ".py",
   "mimetype": "text/x-python",
   "name": "python",
   "nbconvert_exporter": "python",
   "pygments_lexer": "ipython3",
   "version": "3.10.14"
  }
 },
 "nbformat": 4,
 "nbformat_minor": 2
}
