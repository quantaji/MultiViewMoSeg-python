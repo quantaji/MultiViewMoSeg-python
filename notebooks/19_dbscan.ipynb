{
 "cells": [
  {
   "cell_type": "code",
   "execution_count": 82,
   "metadata": {},
   "outputs": [],
   "source": [
    "import sys\n",
    "\n",
    "import numpy as np\n",
    "\n",
    "sys.path.append('..')"
   ]
  },
  {
   "cell_type": "code",
   "execution_count": 83,
   "metadata": {},
   "outputs": [
    {
     "data": {
      "text/plain": [
       "(2238, 24)"
      ]
     },
     "execution_count": 83,
     "metadata": {},
     "output_type": "execute_result"
    }
   ],
   "source": [
    "# case_id = 1\n",
    "# case_id = 2\n",
    "# case_id = 3\n",
    "# case_id = 4\n",
    "# case_id = 5\n",
    "case_id = 6\n",
    "\n",
    "U_subset = np.load(\"./U_subset_fg_{:02d}.npy\".format(case_id))\n",
    "U_subset = U_subset.transpose(1, 2, 0)\n",
    "U_subset = U_subset.reshape(U_subset.shape[0], -1)\n",
    "U_subset = U_subset / np.linalg.norm(U_subset, axis=1, keepdims=True)\n",
    "U_subset.shape"
   ]
  },
  {
   "cell_type": "code",
   "execution_count": 84,
   "metadata": {},
   "outputs": [
    {
     "name": "stdout",
     "output_type": "stream",
     "text": [
      "[-1  0  1]\n"
     ]
    }
   ],
   "source": [
    "from sklearn.cluster import DBSCAN\n",
    "\n",
    "db = DBSCAN(eps=0.4, min_samples=20).fit(U_subset)\n",
    "labels = db.labels_\n",
    "\n",
    "print(np.unique(labels))\n",
    "\n",
    "np.save(\"./group_idx_dbscan_fg_{:02d}.npy\".format(case_id), labels + 1)"
   ]
  },
  {
   "cell_type": "code",
   "execution_count": null,
   "metadata": {},
   "outputs": [],
   "source": []
  }
 ],
 "metadata": {
  "kernelspec": {
   "display_name": "thesis",
   "language": "python",
   "name": "python3"
  },
  "language_info": {
   "codemirror_mode": {
    "name": "ipython",
    "version": 3
   },
   "file_extension": ".py",
   "mimetype": "text/x-python",
   "name": "python",
   "nbconvert_exporter": "python",
   "pygments_lexer": "ipython3",
   "version": "3.10.14"
  }
 },
 "nbformat": 4,
 "nbformat_minor": 2
}
