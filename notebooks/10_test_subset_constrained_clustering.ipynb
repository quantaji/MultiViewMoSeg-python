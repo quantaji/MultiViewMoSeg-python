{
 "cells": [
  {
   "cell_type": "code",
   "execution_count": 8,
   "metadata": {},
   "outputs": [],
   "source": [
    "import sys\n",
    "\n",
    "import numpy as np\n",
    "\n",
    "sys.path.append('..')"
   ]
  },
  {
   "cell_type": "code",
   "execution_count": 9,
   "metadata": {},
   "outputs": [],
   "source": [
    "from multiviewmoseg.pipeline import subset_constrained_clustering"
   ]
  },
  {
   "cell_type": "code",
   "execution_count": 10,
   "metadata": {},
   "outputs": [],
   "source": [
    "# case_id = 1\n",
    "# case_id = 2\n",
    "# case_id = 3\n",
    "# case_id = 4\n",
    "# case_id = 5\n",
    "case_id = 6\n",
    "\n",
    "\n",
    "A = np.load(\"A_{:02d}.npy\".format(case_id))\n",
    "H = np.load(\"H_{:02d}.npy\".format(case_id))\n",
    "F = np.load(\"F_{:02d}.npy\".format(case_id))"
   ]
  },
  {
   "cell_type": "code",
   "execution_count": 11,
   "metadata": {},
   "outputs": [
    {
     "name": "stdout",
     "output_type": "stream",
     "text": [
      "0\n",
      "asdfasdfa\n",
      "(9801, 9801)\n",
      "1\n",
      "asdfasdfa\n",
      "(9801, 9801)\n",
      "2\n",
      "asdfasdfa\n",
      "(9801, 9801)\n",
      "0\n",
      "1\n",
      "2\n",
      "3\n",
      "4\n",
      "5\n",
      "6\n",
      "7\n"
     ]
    }
   ],
   "source": [
    "answer = subset_constrained_clustering(\n",
    "    kernels={\"A\": A, \"H\": H, \"F\": F},\n",
    "    num_motion=8,\n",
    "    # num_motion=2,\n",
    "    alpha=5,\n",
    ")\n",
    "# 3 min per svd\n",
    "# 2 min per iteration"
   ]
  },
  {
   "cell_type": "code",
   "execution_count": 12,
   "metadata": {},
   "outputs": [
    {
     "data": {
      "text/plain": [
       "(array([[[-0.00011225,  0.01101048, -0.00139995, ...,  0.00979683,\n",
       "          -0.01013482,  0.01994919],\n",
       "         [-0.00010984,  0.01081585, -0.00141902, ...,  0.00942065,\n",
       "          -0.01130421,  0.01890887],\n",
       "         [-0.00011066,  0.01091048, -0.00144694, ...,  0.00942043,\n",
       "          -0.01186791,  0.01872468],\n",
       "         ...,\n",
       "         [-0.00013865,  0.00949978,  0.00268465, ..., -0.02328124,\n",
       "          -0.00583342,  0.01182063],\n",
       "         [-0.00013724,  0.00939679,  0.0026639 , ..., -0.02316395,\n",
       "          -0.00583115,  0.01190702],\n",
       "         [-0.00013749,  0.00940568,  0.00267602, ..., -0.02318568,\n",
       "          -0.00584243,  0.01193984]],\n",
       " \n",
       "        [[-0.01009915,  0.00040678, -0.00233916, ..., -0.01588406,\n",
       "           0.01739176,  0.0074934 ],\n",
       "         [-0.0101978 ,  0.00041074, -0.00236052, ..., -0.01595993,\n",
       "           0.01746482,  0.00741187],\n",
       "         [-0.01022328,  0.00041175, -0.00236531, ..., -0.01597949,\n",
       "           0.01778599,  0.00736199],\n",
       "         ...,\n",
       "         [-0.01042013,  0.00041334, -0.00192639, ...,  0.01333307,\n",
       "           0.01145012,  0.00361629],\n",
       "         [-0.01037107,  0.00041137, -0.00191599, ...,  0.01330395,\n",
       "           0.01146977,  0.00363646],\n",
       "         [-0.01045421,  0.00041468, -0.00193201, ...,  0.01337593,\n",
       "           0.01149138,  0.00362526]],\n",
       " \n",
       "        [[ 0.00863171, -0.00108304,  0.00337959, ..., -0.01753989,\n",
       "           0.01605195, -0.00041228],\n",
       "         [ 0.0088459 , -0.00110979,  0.00346149, ..., -0.01788695,\n",
       "           0.01658526, -0.00046556],\n",
       "         [ 0.00912041, -0.00114409,  0.00356679, ..., -0.01833695,\n",
       "           0.01718658, -0.00052383],\n",
       "         ...,\n",
       "         [ 0.00959416, -0.00113092,  0.00235217, ...,  0.014487  ,\n",
       "           0.01424196, -0.00208259],\n",
       "         [ 0.00924066, -0.00108851,  0.00225584, ...,  0.0139262 ,\n",
       "           0.01383075, -0.00195595],\n",
       "         [ 0.00965974, -0.00113692,  0.00234089, ...,  0.01457647,\n",
       "           0.01441771, -0.00202086]]]),\n",
       " 7,\n",
       " [1.6045328767945533,\n",
       "  1.6030472339532253,\n",
       "  1.6029027027816434,\n",
       "  1.6028722271656055,\n",
       "  1.6028699765143986,\n",
       "  1.6028691494481722,\n",
       "  1.6028690963370038,\n",
       "  1.6028690710723126,\n",
       "  1.6028690695750547],\n",
       " {'reason': 'converge'})"
      ]
     },
     "execution_count": 12,
     "metadata": {},
     "output_type": "execute_result"
    }
   ],
   "source": [
    "answer"
   ]
  },
  {
   "cell_type": "code",
   "execution_count": 13,
   "metadata": {},
   "outputs": [],
   "source": [
    "np.save(\"./U_subset_{:02d}.npy\".format(case_id), answer[0])"
   ]
  },
  {
   "cell_type": "code",
   "execution_count": 14,
   "metadata": {},
   "outputs": [
    {
     "data": {
      "text/plain": [
       "(3, 9801, 8)"
      ]
     },
     "execution_count": 14,
     "metadata": {},
     "output_type": "execute_result"
    }
   ],
   "source": [
    "answer[0].shape"
   ]
  },
  {
   "cell_type": "code",
   "execution_count": null,
   "metadata": {},
   "outputs": [],
   "source": []
  }
 ],
 "metadata": {
  "kernelspec": {
   "display_name": "thesis",
   "language": "python",
   "name": "python3"
  },
  "language_info": {
   "codemirror_mode": {
    "name": "ipython",
    "version": 3
   },
   "file_extension": ".py",
   "mimetype": "text/x-python",
   "name": "python",
   "nbconvert_exporter": "python",
   "pygments_lexer": "ipython3",
   "version": "3.10.14"
  }
 },
 "nbformat": 4,
 "nbformat_minor": 2
}
