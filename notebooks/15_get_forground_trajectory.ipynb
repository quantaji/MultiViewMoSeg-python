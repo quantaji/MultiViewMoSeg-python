{
 "cells": [
  {
   "cell_type": "code",
   "execution_count": 41,
   "metadata": {},
   "outputs": [],
   "source": [
    "# # case 1: single moving chair, small FoV\n",
    "# case_id = 1\n",
    "# idx = 1346\n",
    "# traj_path = \"/scratch/quanta/Experiments/Thesis/exps/prob_video_1/cotracker_dense_8/trajectory_{:06d}.npy\".format(idx)\n",
    "# selected_seg_json_path = \"/scratch/quanta/Experiments/Thesis/exps/prob_video_1/deva_ram_gdino_selected_segment_id.json\"\n",
    "# frame_info_json_path = \"/scratch/quanta/Experiments/Thesis/exps/prob_video_1/deva_ram_gdino_foreground_info_frame.json\"\n",
    "# annotation_path = \"/scratch/quanta/Experiments/Thesis/exps/prob_video_1/deva_ram_gdino/Annotations/{:06d}.png\".format(idx)\n",
    "\n",
    "# # case 2: ipad and hands, medium FoV\n",
    "# case_id = 2\n",
    "# idx = 260\n",
    "# traj_path = \"/scratch/quanta/Experiments/Thesis/exps/prob_video_3/cotracker_dense_8/trajectory_{:06d}.npy\".format(idx)\n",
    "# selected_seg_json_path = \"/scratch/quanta/Experiments/Thesis/exps/prob_video_3/deva_ram_gdino_selected_segment_id.json\"\n",
    "# frame_info_json_path = \"/scratch/quanta/Experiments/Thesis/exps/prob_video_3/deva_ram_gdino_foreground_info_frame.json\"\n",
    "# annotation_path = \"/scratch/quanta/Experiments/Thesis/exps/prob_video_3/deva_ram_gdino/Annotations/{:06d}.png\".format(idx)\n",
    "\n",
    "\n",
    "# # case 3: no moving things, large FoV\n",
    "# case_id = 3\n",
    "# idx = 778\n",
    "# traj_path = \"/scratch/quanta/Experiments/Thesis/exps/prob_video_2/cotracker_dense_8/trajectory_{:06d}.npy\".format(idx)\n",
    "# selected_seg_json_path = \"/scratch/quanta/Experiments/Thesis/exps/prob_video_2/deva_ram_gdino_selected_segment_id.json\"\n",
    "# frame_info_json_path = \"/scratch/quanta/Experiments/Thesis/exps/prob_video_2/deva_ram_gdino_foreground_info_frame.json\"\n",
    "# annotation_path = \"/scratch/quanta/Experiments/Thesis/exps/prob_video_2/deva_ram_gdino/Annotations/{:06d}.png\".format(idx)\n",
    "\n",
    "# # case 4: two hands and openning of rice-cooker\n",
    "# # this case the rice-cooker is not recognized as moving...\n",
    "# case_id = 4\n",
    "# idx = 360\n",
    "# traj_path = \"/scratch/quanta/Experiments/Thesis/exps/prob_video_2/cotracker_dense_8/trajectory_{:06d}.npy\".format(idx)\n",
    "# selected_seg_json_path = \"/scratch/quanta/Experiments/Thesis/exps/prob_video_2/deva_ram_gdino_selected_segment_id.json\"\n",
    "# frame_info_json_path = \"/scratch/quanta/Experiments/Thesis/exps/prob_video_2/deva_ram_gdino_foreground_info_frame.json\"\n",
    "# annotation_path = \"/scratch/quanta/Experiments/Thesis/exps/prob_video_2/deva_ram_gdino/Annotations/{:06d}.png\".format(idx)\n",
    "\n",
    "# # case 5: two pans\n",
    "# case_id = 5\n",
    "# idx = 2220\n",
    "# traj_path = \"/scratch/quanta/Experiments/Thesis/exps/prob_video_2/cotracker_dense_8/trajectory_{:06d}.npy\".format(idx)\n",
    "# selected_seg_json_path = \"/scratch/quanta/Experiments/Thesis/exps/prob_video_2/deva_ram_gdino_selected_segment_id.json\"\n",
    "# frame_info_json_path = \"/scratch/quanta/Experiments/Thesis/exps/prob_video_2/deva_ram_gdino_foreground_info_frame.json\"\n",
    "# annotation_path = \"/scratch/quanta/Experiments/Thesis/exps/prob_video_2/deva_ram_gdino/Annotations/{:06d}.png\".format(idx)\n",
    "\n",
    "# # case 6: openning of iPad\n",
    "# case_id = 6\n",
    "# idx = 386\n",
    "# traj_path = \"/scratch/quanta/Experiments/Thesis/exps/prob_video_3/cotracker_dense_8/trajectory_{:06d}.npy\".format(idx)\n",
    "# selected_seg_json_path = \"/scratch/quanta/Experiments/Thesis/exps/prob_video_3/deva_ram_gdino_selected_segment_id.json\"\n",
    "# frame_info_json_path = \"/scratch/quanta/Experiments/Thesis/exps/prob_video_3/deva_ram_gdino_foreground_info_frame.json\"\n",
    "# annotation_path = \"/scratch/quanta/Experiments/Thesis/exps/prob_video_3/deva_ram_gdino/Annotations/{:06d}.png\".format(idx)"
   ]
  },
  {
   "cell_type": "code",
   "execution_count": 42,
   "metadata": {},
   "outputs": [],
   "source": [
    "import numpy as np"
   ]
  },
  {
   "cell_type": "code",
   "execution_count": 43,
   "metadata": {},
   "outputs": [
    {
     "data": {
      "text/plain": [
       "(1280, 1280)"
      ]
     },
     "execution_count": 43,
     "metadata": {},
     "output_type": "execute_result"
    }
   ],
   "source": [
    "foreground_mask = np.load(\"foreground_mask_{:02d}.npy\".format(case_id))\n",
    "foreground_mask.shape"
   ]
  },
  {
   "cell_type": "code",
   "execution_count": 44,
   "metadata": {},
   "outputs": [
    {
     "data": {
      "text/plain": [
       "(9801, 8, 2)"
      ]
     },
     "execution_count": 44,
     "metadata": {},
     "output_type": "execute_result"
    }
   ],
   "source": [
    "traj = np.load(traj_path)[0].transpose(1, 0, 2)\n",
    "traj.shape"
   ]
  },
  {
   "cell_type": "code",
   "execution_count": 45,
   "metadata": {},
   "outputs": [],
   "source": [
    "first_frame_position = traj[:, 0, :].astype(int)"
   ]
  },
  {
   "cell_type": "code",
   "execution_count": 46,
   "metadata": {},
   "outputs": [],
   "source": [
    "traj_mask = foreground_mask[first_frame_position[:, 1], first_frame_position[:, 0]]"
   ]
  },
  {
   "cell_type": "code",
   "execution_count": 47,
   "metadata": {},
   "outputs": [
    {
     "data": {
      "text/plain": [
       "(2238, 8, 2)"
      ]
     },
     "execution_count": 47,
     "metadata": {},
     "output_type": "execute_result"
    }
   ],
   "source": [
    "filtered_traj = traj[traj_mask]\n",
    "filtered_traj.shape"
   ]
  },
  {
   "cell_type": "code",
   "execution_count": 48,
   "metadata": {},
   "outputs": [],
   "source": [
    "np.save(\"traj_{:02d}.npy\".format(case_id), filtered_traj)"
   ]
  }
 ],
 "metadata": {
  "kernelspec": {
   "display_name": "thesis",
   "language": "python",
   "name": "python3"
  },
  "language_info": {
   "codemirror_mode": {
    "name": "ipython",
    "version": 3
   },
   "file_extension": ".py",
   "mimetype": "text/x-python",
   "name": "python",
   "nbconvert_exporter": "python",
   "pygments_lexer": "ipython3",
   "version": "3.10.14"
  }
 },
 "nbformat": 4,
 "nbformat_minor": 2
}
