{
 "cells": [
  {
   "cell_type": "code",
   "execution_count": 14,
   "metadata": {},
   "outputs": [],
   "source": [
    "import sys\n",
    "\n",
    "import numpy as np\n",
    "\n",
    "sys.path.append('..')"
   ]
  },
  {
   "cell_type": "code",
   "execution_count": 15,
   "metadata": {},
   "outputs": [
    {
     "data": {
      "text/plain": [
       "(1606, 24)"
      ]
     },
     "execution_count": 15,
     "metadata": {},
     "output_type": "execute_result"
    }
   ],
   "source": [
    "# case_id = 1\n",
    "# case_id = 2\n",
    "# case_id = 3\n",
    "# case_id = 4\n",
    "case_id = 5\n",
    "# case_id = 6\n",
    "\n",
    "U_subset = np.load(\"./U_subset_fg_{:02d}.npy\".format(case_id))\n",
    "U_subset = U_subset.transpose(1, 2, 0)\n",
    "U_subset = U_subset.reshape(U_subset.shape[0], -1)\n",
    "U_subset = U_subset / np.linalg.norm(U_subset, axis=1, keepdims=True)\n",
    "U_subset.shape"
   ]
  },
  {
   "cell_type": "code",
   "execution_count": 16,
   "metadata": {},
   "outputs": [],
   "source": [
    "from sklearn.cluster import KMeans\n",
    "\n",
    "kmeans = KMeans(\n",
    "    n_clusters=8,\n",
    "    # n_clusters=2,\n",
    "    init=\"k-means++\",\n",
    "    # n_init=500,\n",
    "    # max_iter=1000,\n",
    "    random_state=0,\n",
    "    # verbose=1,\n",
    ")\n",
    "groups = kmeans.fit_predict(U_subset)"
   ]
  },
  {
   "cell_type": "code",
   "execution_count": 17,
   "metadata": {},
   "outputs": [],
   "source": [
    "np.save(\"./group_idx_fg_{:02d}.npy\".format(case_id), groups)"
   ]
  }
 ],
 "metadata": {
  "kernelspec": {
   "display_name": "thesis",
   "language": "python",
   "name": "python3"
  },
  "language_info": {
   "codemirror_mode": {
    "name": "ipython",
    "version": 3
   },
   "file_extension": ".py",
   "mimetype": "text/x-python",
   "name": "python",
   "nbconvert_exporter": "python",
   "pygments_lexer": "ipython3",
   "version": "3.10.14"
  }
 },
 "nbformat": 4,
 "nbformat_minor": 2
}
