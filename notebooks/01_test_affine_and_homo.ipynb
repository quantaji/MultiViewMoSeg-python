{
 "cells": [
  {
   "cell_type": "code",
   "execution_count": 1,
   "metadata": {},
   "outputs": [],
   "source": [
    "# test if the fitting of 4 points gives zero error\n",
    "\n",
    "import sys\n",
    "import os\n",
    "sys.path.append('..')"
   ]
  },
  {
   "cell_type": "code",
   "execution_count": 2,
   "metadata": {},
   "outputs": [],
   "source": [
    "from skimage.transform._geometric import ProjectiveTransform, AffineTransform as AFT\n",
    "from multiviewmoseg.transform.affine import AffineTransform\n",
    "from multiviewmoseg.transform.utils import homo2nonhomo, nonhomo2homo"
   ]
  },
  {
   "cell_type": "code",
   "execution_count": 3,
   "metadata": {},
   "outputs": [],
   "source": [
    "import numpy as np\n",
    "\n",
    "src_gt = np.random.randn(4, 2)\n",
    "dst_gt = np.random.randn(4, 2)"
   ]
  },
  {
   "cell_type": "code",
   "execution_count": 4,
   "metadata": {},
   "outputs": [],
   "source": [
    "gt_affine = AFT()\n",
    "gt_affine.estimate(src=src_gt, dst=dst_gt)\n",
    "A = gt_affine.params"
   ]
  },
  {
   "cell_type": "code",
   "execution_count": 5,
   "metadata": {},
   "outputs": [],
   "source": [
    "src = np.random.randn(30, 2)\n",
    "dst = homo2nonhomo(nonhomo2homo(src) @ A.T)\n",
    "dst_noise = dst + 0.01 * np.random.randn(30, 2)"
   ]
  },
  {
   "cell_type": "code",
   "execution_count": 6,
   "metadata": {},
   "outputs": [],
   "source": [
    "test_transform = AffineTransform()\n",
    "test_transform.fit(src=src, dst=dst)"
   ]
  },
  {
   "cell_type": "code",
   "execution_count": 7,
   "metadata": {},
   "outputs": [
    {
     "data": {
      "text/plain": [
       "(array([[ 2.20053009, -0.39445448, -1.24217901],\n",
       "        [ 1.16619057,  0.89861607, -0.36249126],\n",
       "        [ 0.        ,  0.        ,  1.        ]]),\n",
       " array([[ 2.20053009, -0.39445448, -1.24217901],\n",
       "        [ 1.16619057,  0.89861607, -0.36249126],\n",
       "        [ 0.        ,  0.        ,  1.        ]]),\n",
       " array([1.85972610e-30, 2.46519033e-31, 4.94270661e-30, 2.85037632e-30,\n",
       "        7.70371978e-32, 1.54074396e-30, 2.52759046e-30, 5.17689969e-31,\n",
       "        2.72711680e-31, 1.47911420e-31, 1.63010710e-30, 6.16297582e-31,\n",
       "        7.06277029e-30, 1.10009118e-30, 2.41896801e-30, 2.28030105e-30,\n",
       "        1.55584325e-29, 1.30192864e-31, 1.14015053e-31, 1.56416326e-29,\n",
       "        2.11513330e-29, 2.28030105e-30, 1.23259516e-32, 2.46519033e-32,\n",
       "        9.67298315e-30, 4.69156534e-31, 3.05683601e-30, 1.23567665e-30,\n",
       "        2.77333912e-31, 2.45594587e-30]))"
      ]
     },
     "execution_count": 7,
     "metadata": {},
     "output_type": "execute_result"
    }
   ],
   "source": [
    "A, test_transform.params, test_transform.residuals(src, dst)"
   ]
  },
  {
   "cell_type": "code",
   "execution_count": 11,
   "metadata": {},
   "outputs": [
    {
     "data": {
      "text/plain": [
       "(array([[ 2.20053009, -0.39445448, -1.24217901],\n",
       "        [ 1.16619057,  0.89861607, -0.36249126],\n",
       "        [ 0.        ,  0.        ,  1.        ]]),\n",
       " array([[ 2.19953483, -0.39506606, -1.24257696],\n",
       "        [ 1.16660157,  0.89984006, -0.36086573],\n",
       "        [ 0.        ,  0.        ,  1.        ]]),\n",
       " array([3.46314562e-04, 3.28335422e-04, 3.90242239e-05, 3.62612644e-04,\n",
       "        1.31239000e-04, 4.78444858e-04, 1.02914161e-05, 3.54634727e-04,\n",
       "        2.94833215e-04, 1.41801949e-04, 4.30683167e-04, 4.25101340e-05,\n",
       "        1.70213132e-04, 4.09593017e-04, 5.03514852e-04, 8.61274204e-05,\n",
       "        2.03930529e-04, 6.95595583e-04, 1.31478176e-04, 8.50637980e-04,\n",
       "        3.12017703e-04, 4.06663181e-04, 1.07241749e-03, 2.63872856e-04,\n",
       "        1.28646346e-04, 2.28120914e-05, 7.89095137e-04, 1.70486234e-04,\n",
       "        1.28569286e-04, 2.49213857e-04]))"
      ]
     },
     "execution_count": 11,
     "metadata": {},
     "output_type": "execute_result"
    }
   ],
   "source": [
    "test_transform.fit(src=src, dst=dst_noise)\n",
    "A, test_transform.params, test_transform.residuals(src, dst_noise)"
   ]
  },
  {
   "cell_type": "code",
   "execution_count": null,
   "metadata": {},
   "outputs": [],
   "source": []
  }
 ],
 "metadata": {
  "kernelspec": {
   "display_name": "thesis",
   "language": "python",
   "name": "python3"
  },
  "language_info": {
   "codemirror_mode": {
    "name": "ipython",
    "version": 3
   },
   "file_extension": ".py",
   "mimetype": "text/x-python",
   "name": "python",
   "nbconvert_exporter": "python",
   "pygments_lexer": "ipython3",
   "version": "3.10.14"
  }
 },
 "nbformat": 4,
 "nbformat_minor": 2
}
